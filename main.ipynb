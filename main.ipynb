{
 "cells": [
  {
   "cell_type": "code",
   "execution_count": 16,
   "metadata": {},
   "outputs": [],
   "source": [
    "from seleniumbase import Driver\n",
    "from bs4 import BeautifulSoup\n",
    "import os\n",
    "import json\n",
    "import re\n",
    "import tqdm"
   ]
  },
  {
   "cell_type": "code",
   "execution_count": 17,
   "metadata": {},
   "outputs": [],
   "source": [
    "driver = Driver(\n",
    "    browser=\"edge\",\n",
    "    uc=True,\n",
    "    headless2=True,\n",
    "    incognito=True,\n",
    "    agent=\"Mozilla/5.0 (Windows NT 10.0; Win64; x64) AppleWebKit/537.36 (KHTML, like Gecko) Chrome/112.0.5615.138 Safari/537.36 AVG/112.0.21002.139\",\n",
    "    do_not_track=True,\n",
    "    undetectable=True,\n",
    ")"
   ]
  },
  {
   "cell_type": "code",
   "execution_count": 18,
   "metadata": {},
   "outputs": [],
   "source": [
    "PATH = \"https://arxiv.org/\" #Don't change"
   ]
  },
  {
   "cell_type": "code",
   "execution_count": 19,
   "metadata": {},
   "outputs": [],
   "source": [
    "def run(URL, p = \"results\"):\n",
    "    driver.get(URL)\n",
    "    soup = BeautifulSoup(driver.page_source, \"html.parser\")\n",
    "    tag = soup.find(\"div\", class_ = \"morefewer\")\n",
    "    tag = tag.find_all(\"a\")[-1]['href'][1:]\n",
    "    driver.get(PATH + tag)\n",
    "    soup = BeautifulSoup(driver.page_source, \"html.parser\")\n",
    "    t = dict()\n",
    "    r = []\n",
    "    for ele in soup.find_all([\"dt\", \"dd\"]):\n",
    "        if ele.name == \"dt\":\n",
    "            a = ele.find_all(\"a\")\n",
    "            pdf = os.path.join(PATH, a[1][\"href\"][1:])\n",
    "            t['pdf'] = pdf\n",
    "        elif ele.name == \"dd\":\n",
    "            authors = ele.find(\"div\", class_ = \"list-authors\").find_all(\"a\")\n",
    "            title = ele.find(\"div\", class_ = \"list-title mathjax\").text.strip()\n",
    "            match = re.search(r'Title:\\s+(.*)', title)\n",
    "            if match:\n",
    "                    title = match.group(1)\n",
    "            t[\"title\"] = title\n",
    "            t[\"authors\"] = [x.text for x in authors]\n",
    "            r.append(t)\n",
    "            t = dict()\n",
    "    os.makedirs(p, exist_ok = True)\n",
    "    nm = \"-\".join(URL.split(\"/\")[-2:])\n",
    "    with open(f\"{p}/result_{nm}.json\", \"w\") as f:\n",
    "        json.dump(r, f, indent=4)"
   ]
  },
  {
   "cell_type": "code",
   "execution_count": 20,
   "metadata": {},
   "outputs": [
    {
     "name": "stderr",
     "output_type": "stream",
     "text": [
      "Processing: 100%|██████████| 12/12 [00:15<00:00,  1.26s/it]\n"
     ]
    }
   ],
   "source": [
    "url = \"https://arxiv.org/year/math-ph/2022\" # Can change\n",
    "\n",
    "parts = url.split('/')\n",
    "if parts[-1].isdigit() and len(parts[-1]) == 4:\n",
    "    driver.get(url)\n",
    "    soup = BeautifulSoup(driver.page_source)\n",
    "    content_div = soup.find('div', id='content')\n",
    "    li = [os.path.join(PATH, x.find(\"a\")[\"href\"][1:]) for x in content_div.find(\"ul\").find_all(\"li\")]\n",
    "    for l in tqdm.tqdm(li, \"Processing\"):\n",
    "        run(l)\n",
    "else:\n",
    "    run(url)"
   ]
  }
 ],
 "metadata": {
  "kernelspec": {
   "display_name": "Python 3",
   "language": "python",
   "name": "python3"
  },
  "language_info": {
   "codemirror_mode": {
    "name": "ipython",
    "version": 3
   },
   "file_extension": ".py",
   "mimetype": "text/x-python",
   "name": "python",
   "nbconvert_exporter": "python",
   "pygments_lexer": "ipython3",
   "version": "3.12.3"
  }
 },
 "nbformat": 4,
 "nbformat_minor": 2
}
