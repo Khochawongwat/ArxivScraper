{
 "cells": [
  {
   "cell_type": "code",
   "execution_count": 1,
   "metadata": {},
   "outputs": [
    {
     "name": "stdout",
     "output_type": "stream",
     "text": [
      "Requirement already satisfied: seleniumbase in c:\\users\\khoch\\appdata\\local\\programs\\python\\python312\\lib\\site-packages (4.27.4)\n",
      "Requirement already satisfied: pip>=24.0 in c:\\users\\khoch\\appdata\\local\\programs\\python\\python312\\lib\\site-packages (from seleniumbase) (24.0)\n",
      "Requirement already satisfied: packaging>=24.0 in c:\\users\\khoch\\appdata\\roaming\\python\\python312\\site-packages (from seleniumbase) (24.0)\n",
      "Requirement already satisfied: attrs>=23.2.0 in c:\\users\\khoch\\appdata\\local\\programs\\python\\python312\\lib\\site-packages (from seleniumbase) (23.2.0)\n",
      "Requirement already satisfied: certifi>=2024.6.2 in c:\\users\\khoch\\appdata\\local\\programs\\python\\python312\\lib\\site-packages (from seleniumbase) (2024.6.2)\n",
      "Requirement already satisfied: exceptiongroup>=1.2.1 in c:\\users\\khoch\\appdata\\local\\programs\\python\\python312\\lib\\site-packages (from seleniumbase) (1.2.1)\n",
      "Requirement already satisfied: parse>=1.20.1 in c:\\users\\khoch\\appdata\\local\\programs\\python\\python312\\lib\\site-packages (from seleniumbase) (1.20.1)\n",
      "Requirement already satisfied: parse-type>=0.6.2 in c:\\users\\khoch\\appdata\\local\\programs\\python\\python312\\lib\\site-packages (from seleniumbase) (0.6.2)\n",
      "Requirement already satisfied: pyyaml>=6.0.1 in c:\\users\\khoch\\appdata\\local\\programs\\python\\python312\\lib\\site-packages (from seleniumbase) (6.0.1)\n",
      "Requirement already satisfied: six==1.16.0 in c:\\users\\khoch\\appdata\\roaming\\python\\python312\\site-packages (from seleniumbase) (1.16.0)\n",
      "Requirement already satisfied: idna==3.7 in c:\\users\\khoch\\appdata\\local\\programs\\python\\python312\\lib\\site-packages (from seleniumbase) (3.7)\n",
      "Requirement already satisfied: chardet==5.2.0 in c:\\users\\khoch\\appdata\\local\\programs\\python\\python312\\lib\\site-packages (from seleniumbase) (5.2.0)\n",
      "Requirement already satisfied: charset-normalizer==3.3.2 in c:\\users\\khoch\\appdata\\local\\programs\\python\\python312\\lib\\site-packages (from seleniumbase) (3.3.2)\n",
      "Requirement already satisfied: requests==2.31.0 in c:\\users\\khoch\\appdata\\local\\programs\\python\\python312\\lib\\site-packages (from seleniumbase) (2.31.0)\n",
      "Requirement already satisfied: pynose==1.5.1 in c:\\users\\khoch\\appdata\\local\\programs\\python\\python312\\lib\\site-packages (from seleniumbase) (1.5.1)\n",
      "Requirement already satisfied: sniffio==1.3.1 in c:\\users\\khoch\\appdata\\local\\programs\\python\\python312\\lib\\site-packages (from seleniumbase) (1.3.1)\n",
      "Requirement already satisfied: h11==0.14.0 in c:\\users\\khoch\\appdata\\local\\programs\\python\\python312\\lib\\site-packages (from seleniumbase) (0.14.0)\n",
      "Requirement already satisfied: outcome==1.3.0.post0 in c:\\users\\khoch\\appdata\\local\\programs\\python\\python312\\lib\\site-packages (from seleniumbase) (1.3.0.post0)\n",
      "Requirement already satisfied: trio-websocket==0.11.1 in c:\\users\\khoch\\appdata\\local\\programs\\python\\python312\\lib\\site-packages (from seleniumbase) (0.11.1)\n",
      "Requirement already satisfied: wsproto==1.2.0 in c:\\users\\khoch\\appdata\\local\\programs\\python\\python312\\lib\\site-packages (from seleniumbase) (1.2.0)\n",
      "Requirement already satisfied: cssselect==1.2.0 in c:\\users\\khoch\\appdata\\local\\programs\\python\\python312\\lib\\site-packages (from seleniumbase) (1.2.0)\n",
      "Requirement already satisfied: sortedcontainers==2.4.0 in c:\\users\\khoch\\appdata\\local\\programs\\python\\python312\\lib\\site-packages (from seleniumbase) (2.4.0)\n",
      "Requirement already satisfied: fasteners==0.19 in c:\\users\\khoch\\appdata\\local\\programs\\python\\python312\\lib\\site-packages (from seleniumbase) (0.19)\n",
      "Requirement already satisfied: iniconfig==2.0.0 in c:\\users\\khoch\\appdata\\local\\programs\\python\\python312\\lib\\site-packages (from seleniumbase) (2.0.0)\n",
      "Requirement already satisfied: py==1.11.0 in c:\\users\\khoch\\appdata\\local\\programs\\python\\python312\\lib\\site-packages (from seleniumbase) (1.11.0)\n",
      "Requirement already satisfied: pytest-html==2.0.1 in c:\\users\\khoch\\appdata\\local\\programs\\python\\python312\\lib\\site-packages (from seleniumbase) (2.0.1)\n",
      "Requirement already satisfied: pytest-ordering==0.6 in c:\\users\\khoch\\appdata\\local\\programs\\python\\python312\\lib\\site-packages (from seleniumbase) (0.6)\n",
      "Requirement already satisfied: parameterized==0.9.0 in c:\\users\\khoch\\appdata\\local\\programs\\python\\python312\\lib\\site-packages (from seleniumbase) (0.9.0)\n",
      "Requirement already satisfied: sbvirtualdisplay==1.3.0 in c:\\users\\khoch\\appdata\\local\\programs\\python\\python312\\lib\\site-packages (from seleniumbase) (1.3.0)\n",
      "Requirement already satisfied: behave==1.2.6 in c:\\users\\khoch\\appdata\\local\\programs\\python\\python312\\lib\\site-packages (from seleniumbase) (1.2.6)\n",
      "Requirement already satisfied: beautifulsoup4==4.12.3 in c:\\users\\khoch\\appdata\\local\\programs\\python\\python312\\lib\\site-packages (from seleniumbase) (4.12.3)\n",
      "Requirement already satisfied: tabcompleter==1.3.0 in c:\\users\\khoch\\appdata\\local\\programs\\python\\python312\\lib\\site-packages (from seleniumbase) (1.3.0)\n",
      "Requirement already satisfied: pdbp==1.5.0 in c:\\users\\khoch\\appdata\\local\\programs\\python\\python312\\lib\\site-packages (from seleniumbase) (1.5.0)\n",
      "Requirement already satisfied: colorama==0.4.6 in c:\\users\\khoch\\appdata\\roaming\\python\\python312\\site-packages (from seleniumbase) (0.4.6)\n",
      "Requirement already satisfied: pyotp==2.9.0 in c:\\users\\khoch\\appdata\\local\\programs\\python\\python312\\lib\\site-packages (from seleniumbase) (2.9.0)\n",
      "Requirement already satisfied: mdurl==0.1.2 in c:\\users\\khoch\\appdata\\local\\programs\\python\\python312\\lib\\site-packages (from seleniumbase) (0.1.2)\n",
      "Requirement already satisfied: rich==13.7.1 in c:\\users\\khoch\\appdata\\local\\programs\\python\\python312\\lib\\site-packages (from seleniumbase) (13.7.1)\n",
      "Requirement already satisfied: pyreadline3==3.4.1 in c:\\users\\khoch\\appdata\\local\\programs\\python\\python312\\lib\\site-packages (from seleniumbase) (3.4.1)\n",
      "Requirement already satisfied: urllib3<2.3.0,>=1.26.18 in c:\\users\\khoch\\appdata\\local\\programs\\python\\python312\\lib\\site-packages (from seleniumbase) (2.2.1)\n",
      "Requirement already satisfied: setuptools>=70.0.0 in c:\\users\\khoch\\appdata\\local\\programs\\python\\python312\\lib\\site-packages (from seleniumbase) (70.0.0)\n",
      "Requirement already satisfied: wheel>=0.43.0 in c:\\users\\khoch\\appdata\\local\\programs\\python\\python312\\lib\\site-packages (from seleniumbase) (0.43.0)\n",
      "Requirement already satisfied: filelock>=3.14.0 in c:\\users\\khoch\\appdata\\local\\programs\\python\\python312\\lib\\site-packages (from seleniumbase) (3.14.0)\n",
      "Requirement already satisfied: platformdirs>=4.2.2 in c:\\users\\khoch\\appdata\\roaming\\python\\python312\\site-packages (from seleniumbase) (4.2.2)\n",
      "Requirement already satisfied: typing-extensions>=4.12.1 in c:\\users\\khoch\\appdata\\local\\programs\\python\\python312\\lib\\site-packages (from seleniumbase) (4.12.1)\n",
      "Requirement already satisfied: trio==0.25.1 in c:\\users\\khoch\\appdata\\local\\programs\\python\\python312\\lib\\site-packages (from seleniumbase) (0.25.1)\n",
      "Requirement already satisfied: selenium==4.21.0 in c:\\users\\khoch\\appdata\\local\\programs\\python\\python312\\lib\\site-packages (from seleniumbase) (4.21.0)\n",
      "Requirement already satisfied: execnet==2.1.1 in c:\\users\\khoch\\appdata\\local\\programs\\python\\python312\\lib\\site-packages (from seleniumbase) (2.1.1)\n",
      "Requirement already satisfied: pluggy==1.5.0 in c:\\users\\khoch\\appdata\\local\\programs\\python\\python312\\lib\\site-packages (from seleniumbase) (1.5.0)\n",
      "Requirement already satisfied: pytest==8.2.1 in c:\\users\\khoch\\appdata\\local\\programs\\python\\python312\\lib\\site-packages (from seleniumbase) (8.2.1)\n",
      "Requirement already satisfied: pytest-metadata==3.1.1 in c:\\users\\khoch\\appdata\\local\\programs\\python\\python312\\lib\\site-packages (from seleniumbase) (3.1.1)\n",
      "Requirement already satisfied: pytest-rerunfailures==14.0 in c:\\users\\khoch\\appdata\\local\\programs\\python\\python312\\lib\\site-packages (from seleniumbase) (14.0)\n",
      "Requirement already satisfied: pytest-xdist==3.6.1 in c:\\users\\khoch\\appdata\\local\\programs\\python\\python312\\lib\\site-packages (from seleniumbase) (3.6.1)\n",
      "Requirement already satisfied: soupsieve==2.5 in c:\\users\\khoch\\appdata\\local\\programs\\python\\python312\\lib\\site-packages (from seleniumbase) (2.5)\n",
      "Requirement already satisfied: pygments==2.18.0 in c:\\users\\khoch\\appdata\\roaming\\python\\python312\\site-packages (from seleniumbase) (2.18.0)\n",
      "Requirement already satisfied: markdown-it-py==3.0.0 in c:\\users\\khoch\\appdata\\local\\programs\\python\\python312\\lib\\site-packages (from seleniumbase) (3.0.0)\n",
      "Requirement already satisfied: cffi>=1.14 in c:\\users\\khoch\\appdata\\local\\programs\\python\\python312\\lib\\site-packages (from trio==0.25.1->seleniumbase) (1.16.0)\n",
      "Requirement already satisfied: pycparser in c:\\users\\khoch\\appdata\\local\\programs\\python\\python312\\lib\\site-packages (from cffi>=1.14->trio==0.25.1->seleniumbase) (2.22)\n",
      "Requirement already satisfied: pysocks!=1.5.7,<2.0,>=1.5.6 in c:\\users\\khoch\\appdata\\local\\programs\\python\\python312\\lib\\site-packages (from urllib3[socks]<3,>=1.26->selenium==4.21.0->seleniumbase) (1.7.1)\n",
      "Note: you may need to restart the kernel to use updated packages.\n",
      "Requirement already satisfied: bs4 in c:\\users\\khoch\\appdata\\local\\programs\\python\\python312\\lib\\site-packages (0.0.2)\n",
      "Requirement already satisfied: beautifulsoup4 in c:\\users\\khoch\\appdata\\local\\programs\\python\\python312\\lib\\site-packages (from bs4) (4.12.3)\n",
      "Requirement already satisfied: soupsieve>1.2 in c:\\users\\khoch\\appdata\\local\\programs\\python\\python312\\lib\\site-packages (from beautifulsoup4->bs4) (2.5)\n",
      "Note: you may need to restart the kernel to use updated packages.\n",
      "Requirement already satisfied: tqdm in c:\\users\\khoch\\appdata\\local\\programs\\python\\python312\\lib\\site-packages (4.66.4)\n",
      "Requirement already satisfied: colorama in c:\\users\\khoch\\appdata\\roaming\\python\\python312\\site-packages (from tqdm) (0.4.6)\n",
      "Note: you may need to restart the kernel to use updated packages.\n"
     ]
    }
   ],
   "source": [
    "%pip install seleniumbase\n",
    "%pip install bs4\n",
    "%pip install tqdm"
   ]
  },
  {
   "cell_type": "code",
   "execution_count": 23,
   "metadata": {},
   "outputs": [],
   "source": [
    "from seleniumbase import Driver\n",
    "from bs4 import BeautifulSoup\n",
    "import os\n",
    "import json\n",
    "import re\n",
    "import tqdm"
   ]
  },
  {
   "cell_type": "code",
   "execution_count": null,
   "metadata": {},
   "outputs": [],
   "source": [
    "url = \"https://arxiv.org/year/math-ph/2022\"  # Put your yearly URL here"
   ]
  },
  {
   "cell_type": "code",
   "execution_count": 24,
   "metadata": {},
   "outputs": [
    {
     "name": "stdout",
     "output_type": "stream",
     "text": [
      "Error: Chrome not found! Install it first!\n",
      "\n",
      "Warning: geckodriver not found. Getting it now:\n",
      "\n",
      "*** geckodriver to download = v0.34.0\n",
      "\n",
      "Downloading geckodriver-v0.34.0-win64.zip from:\n",
      "https://github.com/mozilla/geckodriver/releases/download/v0.34.0/geckodriver-v0.34.0-win64.zip ...\n",
      "Download Complete!\n",
      "\n",
      "Extracting ['geckodriver.exe'] from geckodriver-v0.34.0-win64.zip ...\n",
      "Unzip Complete!\n",
      "\n",
      "The file [geckodriver.exe] was saved to:\n",
      "C:\\Users\\khoch\\AppData\\Local\\Programs\\Python\\Python312\\Lib\\site-packages\\seleniumbase\\drivers\\geckodriver.exe\n",
      "\n",
      "Making [geckodriver.exe v0.34.0] executable ...\n",
      "[geckodriver.exe v0.34.0] is now ready for use!\n",
      "\n",
      "Error: Message: Expected browser binary location, but unable to find binary in default location, no 'moz:firefoxOptions.binary' capability provided, and no binary flag set on the command line\n",
      "\n"
     ]
    }
   ],
   "source": [
    "browsers = [\"chrome\", \"firefox\", \"edge\", \"ie\", \"opera\", \"safari\"]\n",
    "for browser in browsers:\n",
    "    try:\n",
    "        driver = Driver(\n",
    "            browser=browser,\n",
    "            uc=True,\n",
    "            headless2=True,\n",
    "            incognito=True,\n",
    "            agent=\"Mozilla/5.0 (Windows NT 10.0; Win64; x64) AppleWebKit/537.36 (KHTML, like Gecko) Chrome/112.0.5615.138 Safari/537.36 AVG/112.0.21002.139\",\n",
    "            do_not_track=True,\n",
    "            undetectable=True,\n",
    "        )\n",
    "        break\n",
    "    except Exception as e:\n",
    "        print(f\"Error: {e}\")\n",
    "        continue"
   ]
  },
  {
   "cell_type": "code",
   "execution_count": 25,
   "metadata": {},
   "outputs": [],
   "source": [
    "PATH = \"https://arxiv.org/\"  # Don't change"
   ]
  },
  {
   "cell_type": "code",
   "execution_count": 26,
   "metadata": {},
   "outputs": [],
   "source": [
    "def run(URL, p=\"results\"):\n",
    "    driver.get(URL)\n",
    "    soup = BeautifulSoup(driver.page_source, \"html.parser\")\n",
    "    tag = soup.find(\"div\", class_=\"morefewer\")\n",
    "    tag = tag.find_all(\"a\")[-1][\"href\"][1:]\n",
    "    driver.get(PATH + tag)\n",
    "    soup = BeautifulSoup(driver.page_source, \"html.parser\")\n",
    "    t = dict()\n",
    "    r = []\n",
    "    for ele in soup.find_all([\"dt\", \"dd\"]):\n",
    "        if ele.name == \"dt\":\n",
    "            a = ele.find_all(\"a\")\n",
    "            pdf = os.path.join(PATH, a[1][\"href\"][1:])\n",
    "            t[\"pdf\"] = pdf\n",
    "        elif ele.name == \"dd\":\n",
    "            authors = ele.find(\"div\", class_=\"list-authors\").find_all(\"a\")\n",
    "            title = ele.find(\"div\", class_=\"list-title mathjax\").text.strip()\n",
    "            match = re.search(r\"Title:\\s+(.*)\", title)\n",
    "            if match:\n",
    "                title = match.group(1)\n",
    "            t[\"title\"] = title\n",
    "            t[\"authors\"] = [x.text for x in authors]\n",
    "            r.append(t)\n",
    "            t = dict()\n",
    "    os.makedirs(p, exist_ok=True)\n",
    "    nm = \"-\".join(URL.split(\"/\")[-2:])\n",
    "    with open(f\"{p}/result_{nm}.json\", \"w\") as f:\n",
    "        json.dump(r, f, indent=4)"
   ]
  },
  {
   "cell_type": "code",
   "execution_count": 27,
   "metadata": {},
   "outputs": [
    {
     "name": "stderr",
     "output_type": "stream",
     "text": [
      "Processing:  50%|█████     | 6/12 [00:08<00:07,  1.28s/it]"
     ]
    }
   ],
   "source": [
    "parts = url.split(\"/\")\n",
    "if parts[-1].isdigit() and len(parts[-1]) == 4:\n",
    "    driver.get(url)\n",
    "    soup = BeautifulSoup(driver.page_source)\n",
    "    content_div = soup.find(\"div\", id=\"content\")\n",
    "    li = [\n",
    "        os.path.join(PATH, x.find(\"a\")[\"href\"][1:])\n",
    "        for x in content_div.find(\"ul\").find_all(\"li\")\n",
    "    ]\n",
    "    for l in tqdm.tqdm(li, \"Processing\"):\n",
    "        run(l)\n",
    "else:\n",
    "    run(url)"
   ]
  }
 ],
 "metadata": {
  "kernelspec": {
   "display_name": "Python 3",
   "language": "python",
   "name": "python3"
  },
  "language_info": {
   "codemirror_mode": {
    "name": "ipython",
    "version": 3
   },
   "file_extension": ".py",
   "mimetype": "text/x-python",
   "name": "python",
   "nbconvert_exporter": "python",
   "pygments_lexer": "ipython3",
   "version": "3.12.3"
  }
 },
 "nbformat": 4,
 "nbformat_minor": 2
}
